{
 "cells": [
  {
   "cell_type": "markdown",
   "id": "dce168f0",
   "metadata": {},
   "source": [
    "## Trabajo Práctico 1: Estimación espectral no-paramétrica\n",
    "### Germán Carlos Bertachini, José Fresneda Sánchez, y Sofia Yanes Sanchez"
   ]
  },
  {
   "cell_type": "code",
   "execution_count": 105,
   "id": "01bb58a5",
   "metadata": {},
   "outputs": [],
   "source": [
    "import h5py\n",
    "import matplotlib.pyplot as plt\n",
    "import numpy as np\n",
    "import scipy as sp\n",
    "\n",
    "# esta pagina te permite ver el contenido de los archivos: myhdf5.hdfgroup.org/\n",
    "# los archivos estan organizados como un Python dictionary (se acesan con keys)\n",
    "h1 = h5py.File(\"H-H1_GWOSC_4KHZ_R1-1126257415-4096.hdf5\", \"r\")\n",
    "l1 = h5py.File(\"L-L1_GWOSC_4KHZ_R1-1126257415-4096.hdf5\", \"r\")"
   ]
  },
  {
   "cell_type": "code",
   "execution_count": 101,
   "id": "c7c98dff",
   "metadata": {},
   "outputs": [],
   "source": [
    "strain_h1 = h1[\"strain\"][\"Strain\"][()]\n",
    "strain_l1 = l1[\"strain\"][\"Strain\"][()]\n",
    "\n",
    "# datos iguales pa h1 y l1\n",
    "duration = h1[\"meta\"][\"Duration\"][()]  # [s] tiempo grabado en los datos\n",
    "num_datos = len(strain_h1)  # [-] numero total de datos grabados\n",
    "frec_muestreo = num_datos/duration  # [Hz]"
   ]
  },
  {
   "cell_type": "markdown",
   "id": "45734d27",
   "metadata": {},
   "source": [
    "#### Estimando le espectro de potencia de ruido de H1 y L1"
   ]
  },
  {
   "cell_type": "markdown",
   "id": "1c8bc2df",
   "metadata": {},
   "source": [
    "Periodograma"
   ]
  },
  {
   "cell_type": "code",
   "execution_count": null,
   "id": "dd61ef7c",
   "metadata": {},
   "outputs": [],
   "source": [
    "# para ver la forma de los datos\n",
    "plt.plot(strain_h1)\n",
    "plt.show()\n",
    "plt.plot(strain_l1)\n",
    "plt.show()"
   ]
  },
  {
   "cell_type": "code",
   "execution_count": 104,
   "id": "6b0275e5",
   "metadata": {},
   "outputs": [],
   "source": [
    "# limpiando pa solo tener ruido\n",
    "event_h1 = np.argmax(np.abs(strain_h1))  # se ve el pico en los datos de h1\n",
    "\n",
    "# vamos a \"overlay\" una seccion de \"false\" donde no queremos los datos pa remove el evento grav.\n",
    "evento = np.full(len(strain_h1), True)  # creando \n",
    "evento[int(event_h1 - 1.5 * frec_muestreo) : int(event_h1 + 1.5 * frec_muestreo)] = False  # tamano razonable donde no tenemos ningun leakage del evento en el ruido\n",
    "ruido_h1 = strain_h1[evento]\n",
    "ruido_l1 = strain_l1[evento]  # como estamos tomando un window del evento grande la diferencia de 10ms no importa x"
   ]
  },
  {
   "cell_type": "code",
   "execution_count": 107,
   "id": "e6d02869",
   "metadata": {},
   "outputs": [],
   "source": [
    "N = 2**16  # pa un window length de 16s que es razonable (necesita justificacion mejor)\n",
    "\n",
    "# esto es todo del profe\n",
    "t = np.linspace(0, 1, N)\n",
    "w_dc = sp.signal.windows.chebwin(N, 100)  \n",
    "\n",
    "# como solo estamos windowing una seccion del ruido (no todo) tenemos q tomar un window\n",
    "segment_h1 = ruido_h1[:N]  # primer 16s de ruido \n",
    "segment_l1 = ruido_l1[:N]\n",
    "\n",
    "seg_h1_win = segment_h1 * w_dc\n",
    "seg_l1_win = segment_l1 * w_dc\n",
    "\n",
    "ruido_H1 = np.fft.fft(seg_h1_win)\n",
    "ruido_L1 = np.fft.fft(seg_l1_win)\n",
    "\n",
    "R_h1 = ruido_H1 * np.conj(ruido_H1)\n",
    "R_l1 = ruido_L1 * np.conj(ruido_L1)\n",
    "\n",
    "f = np.linspace(-1, 1, N)\n"
   ]
  },
  {
   "cell_type": "code",
   "execution_count": null,
   "id": "0dac1dbe",
   "metadata": {},
   "outputs": [],
   "source": [
    "# aqui vemos \n",
    "plt.semilogy(f, np.fft.fftshift(np.abs(R_h1)))\n",
    "plt.show()\n",
    "plt.semilogy(f, np.fft.fftshift(np.abs(R_l1)))\n",
    "plt.show()"
   ]
  },
  {
   "cell_type": "markdown",
   "id": "62c534c8",
   "metadata": {},
   "source": [
    "Periodogram Smoothing"
   ]
  },
  {
   "cell_type": "code",
   "execution_count": null,
   "id": "7bffb2e5",
   "metadata": {},
   "outputs": [],
   "source": [
    "# esto se tiene q hacer x"
   ]
  },
  {
   "cell_type": "markdown",
   "id": "7723ec30",
   "metadata": {},
   "source": [
    "Periodogram Averaging"
   ]
  },
  {
   "cell_type": "code",
   "execution_count": 114,
   "id": "0bba8c1c",
   "metadata": {},
   "outputs": [],
   "source": [
    "# creando arrays vacios para meter nuestros datos\n",
    "R_avg_h1 = np.zeros(N)\n",
    "R_avg_l1 = np.zeros(N)\n",
    "\n",
    "for i in range(len(ruido_h1) // N):\n",
    "    # encontramos todos los periodogramas de cada segment/window\n",
    "    segment_h1 = ruido_h1[i*N : i*N+N]\n",
    "    segment_l1 = ruido_l1[i*N : i*N+N]\n",
    "    seg_h1_win = segment_h1 * w_dc\n",
    "    seg_l1_win = segment_l1 * w_dc\n",
    "    ruido_H1 = np.fft.fft(seg_h1_win)\n",
    "    ruido_L1 = np.fft.fft(seg_l1_win)\n",
    "    R_h1 = ruido_H1 * np.conj(ruido_H1)\n",
    "    R_l1 = ruido_L1 * np.conj(ruido_L1)\n",
    "\n",
    "    # metiendo el valor encontrado en el array \n",
    "    R_avg_h1 += np.abs(R_h1)\n",
    "    R_avg_l1 += np.abs(R_l1)\n",
    "\n",
    "R_avg_h1 /= (len(ruido_h1) // N)  # dividiendo por num de datos utilizado\n",
    "R_avg_l1 /= (len(ruido_h1) // N)"
   ]
  },
  {
   "cell_type": "code",
   "execution_count": null,
   "id": "1d0adde3",
   "metadata": {},
   "outputs": [],
   "source": [
    "# aqui vemos que guaaaa el ruido es mucho menos x\n",
    "plt.semilogy(f, np.fft.fftshift(R_avg_h1))\n",
    "plt.show()\n",
    "plt.semilogy(f, np.fft.fftshift(R_avg_l1))\n",
    "plt.show()"
   ]
  }
 ],
 "metadata": {
  "kernelspec": {
   "display_name": "Python 3",
   "language": "python",
   "name": "python3"
  },
  "language_info": {
   "codemirror_mode": {
    "name": "ipython",
    "version": 3
   },
   "file_extension": ".py",
   "mimetype": "text/x-python",
   "name": "python",
   "nbconvert_exporter": "python",
   "pygments_lexer": "ipython3",
   "version": "3.13.3"
  }
 },
 "nbformat": 4,
 "nbformat_minor": 5
}
