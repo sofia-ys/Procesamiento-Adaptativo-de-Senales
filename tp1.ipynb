{
 "cells": [
  {
   "cell_type": "markdown",
   "id": "dce168f0",
   "metadata": {},
   "source": [
    "## Trabajo Práctico 1: Estimación espectral no-paramétrica\n",
    "### Germán Carlos Bertachini, José Fresneda Sánchez, y Sofia Yanes Sanchez"
   ]
  },
  {
   "cell_type": "code",
   "execution_count": null,
   "id": "01bb58a5",
   "metadata": {},
   "outputs": [],
   "source": [
    "import h5py\n",
    "import matplotlib.pyplot as plt\n",
    "\n",
    "# esta pagina te permite ver el contenido de los archivos: myhdf5.hdfgroup.org/\n",
    "h1 = h5py.File(\"H-H1_GWOSC_4KHZ_R1-1126257415-4096.hdf5\", \"r\")\n",
    "l1 = h5py.File(\"L-L1_GWOSC_4KHZ_R1-1126257415-4096.hdf5\", \"r\")\n",
    "# los archivos estan organizados como un Python dictionary\n",
    "# los datos estan guardados en \"strain\" --> \"Strain\"\n",
    "\n",
    "strainH1 = h1[\"strain\"][\"Strain\"][()]\n",
    "strainL1 = l1[\"strain\"][\"Strain\"][()]\n",
    "sampleRate = 4096  # [Hz]\n",
    "\n",
    "# para ver la forma de los datos\n",
    "# plt.plot(strainH1)\n",
    "# plt.plot(strainL1)\n",
    "# plt.show()"
   ]
  }
 ],
 "metadata": {
  "kernelspec": {
   "display_name": "Python 3",
   "language": "python",
   "name": "python3"
  },
  "language_info": {
   "name": "python",
   "version": "3.13.3"
  }
 },
 "nbformat": 4,
 "nbformat_minor": 5
}
